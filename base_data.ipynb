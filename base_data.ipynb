{
 "cells": [
  {
   "cell_type": "markdown",
   "id": "d233582d",
   "metadata": {},
   "source": [
    "## Base Data\n",
    "\n",
    "### World Bank Primary Education Data"
   ]
  },
  {
   "cell_type": "code",
   "execution_count": 1,
   "id": "ed08abd6",
   "metadata": {},
   "outputs": [],
   "source": [
    "import pandas as pd\n",
    "import matplotlib.pyplot as plt\n",
    "from IPython.display import display\n",
    "import matplotlib.pyplot as plt\n",
    "import seaborn as sns"
   ]
  },
  {
   "cell_type": "markdown",
   "id": "aadc5120",
   "metadata": {},
   "source": [
    "## Checklist\n",
    "\n",
    "### For base dataset\n",
    "- Why we use this dataset?\n",
    "- structure of the data\n",
    "- N/A data\n",
    "- handling N/A Data\n",
    "- data distribution for both target data\n",
    "\n",
    "### ML Model\n",
    "- ..."
   ]
  },
  {
   "cell_type": "markdown",
   "id": "0a792304",
   "metadata": {},
   "source": [
    "### Loading Base Data"
   ]
  },
  {
   "cell_type": "code",
   "execution_count": 5,
   "id": "cdc3fd18",
   "metadata": {},
   "outputs": [],
   "source": [
    "base_data_df = pd.read_csv('./data/world_bank.csv')\n",
    "base_data_df = base_data_df[['country', 'year', 'completion_rate']]\n",
    "country_df = pd.read_csv('./data/country_info.csv')[['Country Code', 'Region', 'Income Group']]\n",
    "country_df = country_df.rename(columns={'Country Code': 'country'})\n",
    "data_df = pd.merge(base_data_df, country_df, on=\"country\")"
   ]
  },
  {
   "cell_type": "markdown",
   "id": "000fec2b",
   "metadata": {},
   "source": [
    "### Missing value"
   ]
  },
  {
   "cell_type": "code",
   "execution_count": 6,
   "id": "c8e7ff50",
   "metadata": {},
   "outputs": [],
   "source": [
    "completion_rate_pivot = data_df.pivot(index='country', columns=['year'], values=['completion_rate'])"
   ]
  },
  {
   "cell_type": "markdown",
   "id": "9decd402",
   "metadata": {},
   "source": [
    "We could see from the table of example countries and the bar plot that there are a lot of missing value in the data and there is no common year which the data are all available."
   ]
  },
  {
   "cell_type": "code",
   "execution_count": 7,
   "id": "5ec844af",
   "metadata": {},
   "outputs": [
    {
     "data": {
      "text/html": [
       "<div>\n",
       "<style scoped>\n",
       "    .dataframe tbody tr th:only-of-type {\n",
       "        vertical-align: middle;\n",
       "    }\n",
       "\n",
       "    .dataframe tbody tr th {\n",
       "        vertical-align: top;\n",
       "    }\n",
       "\n",
       "    .dataframe thead th {\n",
       "        text-align: right;\n",
       "    }\n",
       "</style>\n",
       "<table border=\"1\" class=\"dataframe\">\n",
       "  <thead>\n",
       "    <tr style=\"text-align: right;\">\n",
       "      <th></th>\n",
       "      <th>country</th>\n",
       "      <th>USA</th>\n",
       "      <th>JPN</th>\n",
       "      <th>AUT</th>\n",
       "      <th>DEU</th>\n",
       "      <th>IND</th>\n",
       "      <th>THA</th>\n",
       "    </tr>\n",
       "    <tr>\n",
       "      <th></th>\n",
       "      <th>year</th>\n",
       "      <th></th>\n",
       "      <th></th>\n",
       "      <th></th>\n",
       "      <th></th>\n",
       "      <th></th>\n",
       "      <th></th>\n",
       "    </tr>\n",
       "  </thead>\n",
       "  <tbody>\n",
       "    <tr>\n",
       "      <th rowspan=\"21\" valign=\"top\">completion_rate</th>\n",
       "      <th>2000</th>\n",
       "      <td>NaN</td>\n",
       "      <td>NaN</td>\n",
       "      <td>NaN</td>\n",
       "      <td>104.346916</td>\n",
       "      <td>71.486107</td>\n",
       "      <td>84.892181</td>\n",
       "    </tr>\n",
       "    <tr>\n",
       "      <th>2001</th>\n",
       "      <td>NaN</td>\n",
       "      <td>NaN</td>\n",
       "      <td>NaN</td>\n",
       "      <td>105.795708</td>\n",
       "      <td>72.169540</td>\n",
       "      <td>86.880768</td>\n",
       "    </tr>\n",
       "    <tr>\n",
       "      <th>2002</th>\n",
       "      <td>NaN</td>\n",
       "      <td>NaN</td>\n",
       "      <td>100.222198</td>\n",
       "      <td>101.670143</td>\n",
       "      <td>75.560066</td>\n",
       "      <td>NaN</td>\n",
       "    </tr>\n",
       "    <tr>\n",
       "      <th>2003</th>\n",
       "      <td>NaN</td>\n",
       "      <td>NaN</td>\n",
       "      <td>NaN</td>\n",
       "      <td>100.681236</td>\n",
       "      <td>80.044380</td>\n",
       "      <td>NaN</td>\n",
       "    </tr>\n",
       "    <tr>\n",
       "      <th>2004</th>\n",
       "      <td>NaN</td>\n",
       "      <td>NaN</td>\n",
       "      <td>98.744301</td>\n",
       "      <td>99.470268</td>\n",
       "      <td>NaN</td>\n",
       "      <td>NaN</td>\n",
       "    </tr>\n",
       "    <tr>\n",
       "      <th>2005</th>\n",
       "      <td>NaN</td>\n",
       "      <td>NaN</td>\n",
       "      <td>NaN</td>\n",
       "      <td>96.879639</td>\n",
       "      <td>NaN</td>\n",
       "      <td>NaN</td>\n",
       "    </tr>\n",
       "    <tr>\n",
       "      <th>2006</th>\n",
       "      <td>NaN</td>\n",
       "      <td>NaN</td>\n",
       "      <td>NaN</td>\n",
       "      <td>98.496803</td>\n",
       "      <td>NaN</td>\n",
       "      <td>NaN</td>\n",
       "    </tr>\n",
       "    <tr>\n",
       "      <th>2007</th>\n",
       "      <td>NaN</td>\n",
       "      <td>NaN</td>\n",
       "      <td>NaN</td>\n",
       "      <td>103.536980</td>\n",
       "      <td>NaN</td>\n",
       "      <td>NaN</td>\n",
       "    </tr>\n",
       "    <tr>\n",
       "      <th>2008</th>\n",
       "      <td>NaN</td>\n",
       "      <td>NaN</td>\n",
       "      <td>NaN</td>\n",
       "      <td>101.979027</td>\n",
       "      <td>94.757584</td>\n",
       "      <td>NaN</td>\n",
       "    </tr>\n",
       "    <tr>\n",
       "      <th>2009</th>\n",
       "      <td>NaN</td>\n",
       "      <td>NaN</td>\n",
       "      <td>NaN</td>\n",
       "      <td>102.383797</td>\n",
       "      <td>95.746292</td>\n",
       "      <td>NaN</td>\n",
       "    </tr>\n",
       "    <tr>\n",
       "      <th>2010</th>\n",
       "      <td>NaN</td>\n",
       "      <td>NaN</td>\n",
       "      <td>NaN</td>\n",
       "      <td>102.015350</td>\n",
       "      <td>NaN</td>\n",
       "      <td>NaN</td>\n",
       "    </tr>\n",
       "    <tr>\n",
       "      <th>2011</th>\n",
       "      <td>NaN</td>\n",
       "      <td>NaN</td>\n",
       "      <td>96.772018</td>\n",
       "      <td>101.566879</td>\n",
       "      <td>92.763359</td>\n",
       "      <td>NaN</td>\n",
       "    </tr>\n",
       "    <tr>\n",
       "      <th>2012</th>\n",
       "      <td>NaN</td>\n",
       "      <td>NaN</td>\n",
       "      <td>96.693718</td>\n",
       "      <td>98.653137</td>\n",
       "      <td>NaN</td>\n",
       "      <td>NaN</td>\n",
       "    </tr>\n",
       "    <tr>\n",
       "      <th>2013</th>\n",
       "      <td>NaN</td>\n",
       "      <td>NaN</td>\n",
       "      <td>97.606010</td>\n",
       "      <td>98.398689</td>\n",
       "      <td>96.200890</td>\n",
       "      <td>NaN</td>\n",
       "    </tr>\n",
       "    <tr>\n",
       "      <th>2014</th>\n",
       "      <td>NaN</td>\n",
       "      <td>NaN</td>\n",
       "      <td>98.691849</td>\n",
       "      <td>97.282707</td>\n",
       "      <td>97.571121</td>\n",
       "      <td>NaN</td>\n",
       "    </tr>\n",
       "    <tr>\n",
       "      <th>2015</th>\n",
       "      <td>NaN</td>\n",
       "      <td>NaN</td>\n",
       "      <td>100.373787</td>\n",
       "      <td>98.918297</td>\n",
       "      <td>97.711319</td>\n",
       "      <td>NaN</td>\n",
       "    </tr>\n",
       "    <tr>\n",
       "      <th>2016</th>\n",
       "      <td>NaN</td>\n",
       "      <td>NaN</td>\n",
       "      <td>99.656723</td>\n",
       "      <td>97.937202</td>\n",
       "      <td>96.230698</td>\n",
       "      <td>NaN</td>\n",
       "    </tr>\n",
       "    <tr>\n",
       "      <th>2017</th>\n",
       "      <td>98.832199</td>\n",
       "      <td>NaN</td>\n",
       "      <td>99.453178</td>\n",
       "      <td>98.805138</td>\n",
       "      <td>94.373749</td>\n",
       "      <td>93.452553</td>\n",
       "    </tr>\n",
       "    <tr>\n",
       "      <th>2018</th>\n",
       "      <td>100.092697</td>\n",
       "      <td>NaN</td>\n",
       "      <td>99.813004</td>\n",
       "      <td>100.843323</td>\n",
       "      <td>NaN</td>\n",
       "      <td>93.420471</td>\n",
       "    </tr>\n",
       "    <tr>\n",
       "      <th>2019</th>\n",
       "      <td>100.489052</td>\n",
       "      <td>NaN</td>\n",
       "      <td>99.408501</td>\n",
       "      <td>99.017799</td>\n",
       "      <td>91.661491</td>\n",
       "      <td>94.411377</td>\n",
       "    </tr>\n",
       "    <tr>\n",
       "      <th>2020</th>\n",
       "      <td>NaN</td>\n",
       "      <td>NaN</td>\n",
       "      <td>NaN</td>\n",
       "      <td>NaN</td>\n",
       "      <td>94.559128</td>\n",
       "      <td>95.063080</td>\n",
       "    </tr>\n",
       "  </tbody>\n",
       "</table>\n",
       "</div>"
      ],
      "text/plain": [
       "country                      USA  JPN         AUT         DEU        IND  \\\n",
       "                year                                                       \n",
       "completion_rate 2000         NaN  NaN         NaN  104.346916  71.486107   \n",
       "                2001         NaN  NaN         NaN  105.795708  72.169540   \n",
       "                2002         NaN  NaN  100.222198  101.670143  75.560066   \n",
       "                2003         NaN  NaN         NaN  100.681236  80.044380   \n",
       "                2004         NaN  NaN   98.744301   99.470268        NaN   \n",
       "                2005         NaN  NaN         NaN   96.879639        NaN   \n",
       "                2006         NaN  NaN         NaN   98.496803        NaN   \n",
       "                2007         NaN  NaN         NaN  103.536980        NaN   \n",
       "                2008         NaN  NaN         NaN  101.979027  94.757584   \n",
       "                2009         NaN  NaN         NaN  102.383797  95.746292   \n",
       "                2010         NaN  NaN         NaN  102.015350        NaN   \n",
       "                2011         NaN  NaN   96.772018  101.566879  92.763359   \n",
       "                2012         NaN  NaN   96.693718   98.653137        NaN   \n",
       "                2013         NaN  NaN   97.606010   98.398689  96.200890   \n",
       "                2014         NaN  NaN   98.691849   97.282707  97.571121   \n",
       "                2015         NaN  NaN  100.373787   98.918297  97.711319   \n",
       "                2016         NaN  NaN   99.656723   97.937202  96.230698   \n",
       "                2017   98.832199  NaN   99.453178   98.805138  94.373749   \n",
       "                2018  100.092697  NaN   99.813004  100.843323        NaN   \n",
       "                2019  100.489052  NaN   99.408501   99.017799  91.661491   \n",
       "                2020         NaN  NaN         NaN         NaN  94.559128   \n",
       "\n",
       "country                     THA  \n",
       "                year             \n",
       "completion_rate 2000  84.892181  \n",
       "                2001  86.880768  \n",
       "                2002        NaN  \n",
       "                2003        NaN  \n",
       "                2004        NaN  \n",
       "                2005        NaN  \n",
       "                2006        NaN  \n",
       "                2007        NaN  \n",
       "                2008        NaN  \n",
       "                2009        NaN  \n",
       "                2010        NaN  \n",
       "                2011        NaN  \n",
       "                2012        NaN  \n",
       "                2013        NaN  \n",
       "                2014        NaN  \n",
       "                2015        NaN  \n",
       "                2016        NaN  \n",
       "                2017  93.452553  \n",
       "                2018  93.420471  \n",
       "                2019  94.411377  \n",
       "                2020  95.063080  "
      ]
     },
     "execution_count": 7,
     "metadata": {},
     "output_type": "execute_result"
    }
   ],
   "source": [
    "completion_rate_pivot.loc[['USA', 'JPN', 'AUT', 'DEU', 'IND', 'THA']].transpose()"
   ]
  },
  {
   "cell_type": "code",
   "execution_count": 8,
   "id": "8bbcdb68",
   "metadata": {},
   "outputs": [
    {
     "data": {
      "text/plain": [
       "<AxesSubplot:xlabel='year', ylabel='missing_completion_rate'>"
      ]
     },
     "execution_count": 8,
     "metadata": {},
     "output_type": "execute_result"
    },
    {
     "data": {
      "image/png": "[encoded data removed]",
      "text/plain": [
       "<Figure size 1152x432 with 1 Axes>"
      ]
     },
     "metadata": {
      "needs_background": "light"
     },
     "output_type": "display_data"
    }
   ],
   "source": [
    "na_completion_rate = data_df.groupby('year').apply(lambda df: df.isna().mean())[['completion_rate']]\n",
    "na_completion_rate = na_completion_rate.rename(columns={'completion_rate': 'missing_completion_rate'})\n",
    "plt.figure(figsize=(16, 6))\n",
    "sns.barplot(x=na_completion_rate.index, y=na_completion_rate['missing_completion_rate'])"
   ]
  },
  {
   "cell_type": "markdown",
   "id": "0fb757c9",
   "metadata": {},
   "source": [
    "Because of these, we will progress by treating each country and year as individual obeservation and drop all of the N/A. Also the 2020 data looks incomplete, so we will drop all 2020 as well."
   ]
  },
  {
   "cell_type": "code",
   "execution_count": null,
   "id": "a29d166a",
   "metadata": {},
   "outputs": [],
   "source": [
    "data_df = data_df.dropna()\n",
    "data_df = data_df.set_index(['country', 'year'])\n",
    "data_df = data_df.loc[(slice(None), slice(2010, 2019)), :]"
   ]
  },
  {
   "cell_type": "markdown",
   "id": "11de9aaf",
   "metadata": {},
   "source": [
    "### Target Variable Distribution\n",
    "\n",
    "From, We could see the distribuition of the data have approximately the same structure. We have the mode at around 100% completion rate. Also there is a small peak at around 65%."
   ]
  },
  {
   "cell_type": "code",
   "execution_count": null,
   "id": "774c8b29",
   "metadata": {},
   "outputs": [],
   "source": [
    "sns.displot(data_df, x=\"completion_rate\", hue=\"year\", kind=\"kde\")"
   ]
  },
  {
   "cell_type": "code",
   "execution_count": null,
   "id": "0915be8f",
   "metadata": {},
   "outputs": [],
   "source": [
    "data_df_2019 = data_df.loc[(slice(None), slice(2019, 2019)),:]"
   ]
  },
  {
   "cell_type": "code",
   "execution_count": null,
   "id": "14356488",
   "metadata": {},
   "outputs": [],
   "source": [
    "completion_country_income_level_df = data_df.groupby(['year', 'Income Group']).mean()"
   ]
  },
  {
   "cell_type": "code",
   "execution_count": null,
   "id": "fb7f8e3f",
   "metadata": {},
   "outputs": [],
   "source": [
    "g = sns.relplot(\n",
    "    data=completion_country_income_level_df,\n",
    "    x=\"year\",\n",
    "    y=\"completion_rate\",\n",
    "    hue=\"Income Group\",\n",
    "    kind=\"line\",\n",
    ")\n",
    "g.set(ylim=(0, None))"
   ]
  },
  {
   "cell_type": "code",
   "execution_count": null,
   "id": "be06de64",
   "metadata": {},
   "outputs": [],
   "source": []
  }
 ],
 "metadata": {
  "kernelspec": {
   "display_name": "Python 3 (ipykernel)",
   "language": "python",
   "name": "python3"
  },
  "language_info": {
   "codemirror_mode": {
    "name": "ipython",
    "version": 3
   },
   "file_extension": ".py",
   "mimetype": "text/x-python",
   "name": "python",
   "nbconvert_exporter": "python",
   "pygments_lexer": "ipython3",
   "version": "3.8.10"
  }
 },
 "nbformat": 4,
 "nbformat_minor": 5
}
